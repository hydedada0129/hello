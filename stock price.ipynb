{
  "nbformat": 4,
  "nbformat_minor": 0,
  "metadata": {
    "colab": {
      "name": "Untitled2.ipynb",
      "provenance": [],
      "authorship_tag": "ABX9TyN8KmFQoMMBNxwHlCgzAAgi",
      "include_colab_link": true
    },
    "kernelspec": {
      "name": "python3",
      "display_name": "Python 3"
    },
    "language_info": {
      "name": "python"
    }
  },
  "cells": [
    {
      "cell_type": "markdown",
      "metadata": {
        "id": "view-in-github",
        "colab_type": "text"
      },
      "source": [
        "<a href=\"https://colab.research.google.com/github/hydedada0129/hello/blob/master/stock%20price.ipynb\" target=\"_parent\"><img src=\"https://colab.research.google.com/assets/colab-badge.svg\" alt=\"Open In Colab\"/></a>"
      ]
    },
    {
      "cell_type": "code",
      "metadata": {
        "colab": {
          "base_uri": "https://localhost:8080/",
          "height": 195
        },
        "id": "gxFBAAqab1LZ",
        "outputId": "b5cadf0e-e445-4435-a28e-43495a612161"
      },
      "source": [
        "import requests\n",
        "site = \"https://query1.finance.yahoo.com/v8/finance/chart/2330.TW?period1=0&period2=1549258857&interval=1d&events=history&=hP2rOschxO0\"\n",
        "\n",
        "# 利用 requests 來跟遠端 server 索取資料\n",
        "response = requests.get(site)\n",
        "\n",
        "import json\n",
        "import numpy as np\n",
        "import pandas as pd\n",
        "\n",
        "data = json.loads(response.text)\n",
        "df = pd.DataFrame(data['chart']['result'][0]['indicators']['quote'][0], index=pd.to_datetime(np.array(data['chart']['result'][0]['timestamp'])*1000*1000*1000))\n",
        "df.head()"
      ],
      "execution_count": 12,
      "outputs": [
        {
          "output_type": "execute_result",
          "data": {
            "text/html": [
              "<div>\n",
              "<style scoped>\n",
              "    .dataframe tbody tr th:only-of-type {\n",
              "        vertical-align: middle;\n",
              "    }\n",
              "\n",
              "    .dataframe tbody tr th {\n",
              "        vertical-align: top;\n",
              "    }\n",
              "\n",
              "    .dataframe thead th {\n",
              "        text-align: right;\n",
              "    }\n",
              "</style>\n",
              "<table border=\"1\" class=\"dataframe\">\n",
              "  <thead>\n",
              "    <tr style=\"text-align: right;\">\n",
              "      <th></th>\n",
              "      <th>close</th>\n",
              "      <th>open</th>\n",
              "      <th>low</th>\n",
              "      <th>volume</th>\n",
              "      <th>high</th>\n",
              "    </tr>\n",
              "  </thead>\n",
              "  <tbody>\n",
              "    <tr>\n",
              "      <th>2000-01-04 01:00:00</th>\n",
              "      <td>69.649033</td>\n",
              "      <td>69.649033</td>\n",
              "      <td>68.475182</td>\n",
              "      <td>2.006623e+11</td>\n",
              "      <td>69.649033</td>\n",
              "    </tr>\n",
              "    <tr>\n",
              "      <th>2000-01-05 01:00:00</th>\n",
              "      <td>71.214043</td>\n",
              "      <td>69.649033</td>\n",
              "      <td>68.866341</td>\n",
              "      <td>4.024668e+11</td>\n",
              "      <td>71.214043</td>\n",
              "    </tr>\n",
              "    <tr>\n",
              "      <th>2000-01-06 01:00:00</th>\n",
              "      <td>69.649033</td>\n",
              "      <td>70.822884</td>\n",
              "      <td>69.649033</td>\n",
              "      <td>1.975457e+11</td>\n",
              "      <td>71.214043</td>\n",
              "    </tr>\n",
              "    <tr>\n",
              "      <th>2000-01-07 01:00:00</th>\n",
              "      <td>67.692490</td>\n",
              "      <td>67.301331</td>\n",
              "      <td>66.518639</td>\n",
              "      <td>2.352703e+11</td>\n",
              "      <td>68.475182</td>\n",
              "    </tr>\n",
              "    <tr>\n",
              "      <th>2000-01-10 01:00:00</th>\n",
              "      <td>70.040192</td>\n",
              "      <td>69.649033</td>\n",
              "      <td>68.475182</td>\n",
              "      <td>2.761717e+11</td>\n",
              "      <td>70.431351</td>\n",
              "    </tr>\n",
              "  </tbody>\n",
              "</table>\n",
              "</div>"
            ],
            "text/plain": [
              "                         close       open        low        volume       high\n",
              "2000-01-04 01:00:00  69.649033  69.649033  68.475182  2.006623e+11  69.649033\n",
              "2000-01-05 01:00:00  71.214043  69.649033  68.866341  4.024668e+11  71.214043\n",
              "2000-01-06 01:00:00  69.649033  70.822884  69.649033  1.975457e+11  71.214043\n",
              "2000-01-07 01:00:00  67.692490  67.301331  66.518639  2.352703e+11  68.475182\n",
              "2000-01-10 01:00:00  70.040192  69.649033  68.475182  2.761717e+11  70.431351"
            ]
          },
          "metadata": {
            "tags": []
          },
          "execution_count": 12
        }
      ]
    }
  ]
}